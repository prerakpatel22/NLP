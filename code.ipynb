{
  "nbformat": 4,
  "nbformat_minor": 0,
  "metadata": {
    "colab": {
      "name": "Copy of Assignment1NLP.ipynb",
      "provenance": [],
      "collapsed_sections": []
    },
    "kernelspec": {
      "name": "python3",
      "display_name": "Python 3"
    },
    "accelerator": "GPU"
  },
  "cells": [
    {
      "cell_type": "code",
      "metadata": {
        "id": "VlEXRodpEtBs",
        "colab_type": "code",
        "outputId": "0903bb9e-d468-4b9a-9907-876689f54427",
        "colab": {
          "base_uri": "https://localhost:8080/",
          "height": 122
        }
      },
      "source": [
        "from google.colab import drive\n",
        "drive.mount('/content/drive')"
      ],
      "execution_count": 2,
      "outputs": [
        {
          "output_type": "stream",
          "text": [
            "Go to this URL in a browser: https://accounts.google.com/o/oauth2/auth?client_id=947318989803-6bn6qk8qdgf4n4g3pfee6491hc0brc4i.apps.googleusercontent.com&redirect_uri=urn%3aietf%3awg%3aoauth%3a2.0%3aoob&response_type=code&scope=email%20https%3a%2f%2fwww.googleapis.com%2fauth%2fdocs.test%20https%3a%2f%2fwww.googleapis.com%2fauth%2fdrive%20https%3a%2f%2fwww.googleapis.com%2fauth%2fdrive.photos.readonly%20https%3a%2f%2fwww.googleapis.com%2fauth%2fpeopleapi.readonly\n",
            "\n",
            "Enter your authorization code:\n",
            "··········\n",
            "Mounted at /content/drive\n"
          ],
          "name": "stdout"
        }
      ]
    },
    {
      "cell_type": "code",
      "metadata": {
        "id": "Sj3mzljTEGn-",
        "colab_type": "code",
        "colab": {}
      },
      "source": [
        "import pandas as pd\n",
        "from sklearn.model_selection import train_test_split\n",
        "import numpy as np\n",
        "import matplotlib.pyplot as plt\n",
        "\n",
        "%matplotlib inline"
      ],
      "execution_count": 0,
      "outputs": []
    },
    {
      "cell_type": "code",
      "metadata": {
        "id": "a-Aq8yvXHv7E",
        "colab_type": "code",
        "outputId": "891d50b9-5376-4b7b-eac8-4a748d2a4ba5",
        "colab": {
          "base_uri": "https://localhost:8080/",
          "height": 376
        }
      },
      "source": [
        "dataset = pd.read_csv('/housing.csv')\n",
        "dataset = dataset.dropna()\n",
        "print(\"First ten rows of the dataset: \")\n",
        "dataset.head(10)"
      ],
      "execution_count": 71,
      "outputs": [
        {
          "output_type": "stream",
          "text": [
            "First ten rows of the dataset: \n"
          ],
          "name": "stdout"
        },
        {
          "output_type": "execute_result",
          "data": {
            "text/html": [
              "<div>\n",
              "<style scoped>\n",
              "    .dataframe tbody tr th:only-of-type {\n",
              "        vertical-align: middle;\n",
              "    }\n",
              "\n",
              "    .dataframe tbody tr th {\n",
              "        vertical-align: top;\n",
              "    }\n",
              "\n",
              "    .dataframe thead th {\n",
              "        text-align: right;\n",
              "    }\n",
              "</style>\n",
              "<table border=\"1\" class=\"dataframe\">\n",
              "  <thead>\n",
              "    <tr style=\"text-align: right;\">\n",
              "      <th></th>\n",
              "      <th>longitude</th>\n",
              "      <th>latitude</th>\n",
              "      <th>housing_median_age</th>\n",
              "      <th>total_rooms</th>\n",
              "      <th>total_bedrooms</th>\n",
              "      <th>population</th>\n",
              "      <th>households</th>\n",
              "      <th>median_income</th>\n",
              "      <th>median_house_value</th>\n",
              "      <th>ocean_proximity</th>\n",
              "    </tr>\n",
              "  </thead>\n",
              "  <tbody>\n",
              "    <tr>\n",
              "      <th>0</th>\n",
              "      <td>-122.23</td>\n",
              "      <td>37.88</td>\n",
              "      <td>41</td>\n",
              "      <td>880</td>\n",
              "      <td>129.0</td>\n",
              "      <td>322</td>\n",
              "      <td>126</td>\n",
              "      <td>8.3252</td>\n",
              "      <td>452600</td>\n",
              "      <td>NEAR BAY</td>\n",
              "    </tr>\n",
              "    <tr>\n",
              "      <th>1</th>\n",
              "      <td>-122.22</td>\n",
              "      <td>37.86</td>\n",
              "      <td>21</td>\n",
              "      <td>7099</td>\n",
              "      <td>1106.0</td>\n",
              "      <td>2401</td>\n",
              "      <td>1138</td>\n",
              "      <td>8.3014</td>\n",
              "      <td>358500</td>\n",
              "      <td>NEAR BAY</td>\n",
              "    </tr>\n",
              "    <tr>\n",
              "      <th>2</th>\n",
              "      <td>-122.24</td>\n",
              "      <td>37.85</td>\n",
              "      <td>52</td>\n",
              "      <td>1467</td>\n",
              "      <td>190.0</td>\n",
              "      <td>496</td>\n",
              "      <td>177</td>\n",
              "      <td>7.2574</td>\n",
              "      <td>352100</td>\n",
              "      <td>NEAR BAY</td>\n",
              "    </tr>\n",
              "    <tr>\n",
              "      <th>3</th>\n",
              "      <td>-122.25</td>\n",
              "      <td>37.85</td>\n",
              "      <td>52</td>\n",
              "      <td>1274</td>\n",
              "      <td>235.0</td>\n",
              "      <td>558</td>\n",
              "      <td>219</td>\n",
              "      <td>5.6431</td>\n",
              "      <td>341300</td>\n",
              "      <td>NEAR BAY</td>\n",
              "    </tr>\n",
              "    <tr>\n",
              "      <th>4</th>\n",
              "      <td>-122.25</td>\n",
              "      <td>37.85</td>\n",
              "      <td>52</td>\n",
              "      <td>1627</td>\n",
              "      <td>280.0</td>\n",
              "      <td>565</td>\n",
              "      <td>259</td>\n",
              "      <td>3.8462</td>\n",
              "      <td>342200</td>\n",
              "      <td>NEAR BAY</td>\n",
              "    </tr>\n",
              "    <tr>\n",
              "      <th>5</th>\n",
              "      <td>-122.25</td>\n",
              "      <td>37.85</td>\n",
              "      <td>52</td>\n",
              "      <td>919</td>\n",
              "      <td>213.0</td>\n",
              "      <td>413</td>\n",
              "      <td>193</td>\n",
              "      <td>4.0368</td>\n",
              "      <td>269700</td>\n",
              "      <td>NEAR BAY</td>\n",
              "    </tr>\n",
              "    <tr>\n",
              "      <th>6</th>\n",
              "      <td>-122.25</td>\n",
              "      <td>37.84</td>\n",
              "      <td>52</td>\n",
              "      <td>2535</td>\n",
              "      <td>489.0</td>\n",
              "      <td>1094</td>\n",
              "      <td>514</td>\n",
              "      <td>3.6591</td>\n",
              "      <td>299200</td>\n",
              "      <td>NEAR BAY</td>\n",
              "    </tr>\n",
              "    <tr>\n",
              "      <th>7</th>\n",
              "      <td>-122.25</td>\n",
              "      <td>37.84</td>\n",
              "      <td>52</td>\n",
              "      <td>3104</td>\n",
              "      <td>687.0</td>\n",
              "      <td>1157</td>\n",
              "      <td>647</td>\n",
              "      <td>3.1200</td>\n",
              "      <td>241400</td>\n",
              "      <td>NEAR BAY</td>\n",
              "    </tr>\n",
              "    <tr>\n",
              "      <th>8</th>\n",
              "      <td>-122.26</td>\n",
              "      <td>37.84</td>\n",
              "      <td>42</td>\n",
              "      <td>2555</td>\n",
              "      <td>665.0</td>\n",
              "      <td>1206</td>\n",
              "      <td>595</td>\n",
              "      <td>2.0804</td>\n",
              "      <td>226700</td>\n",
              "      <td>NEAR BAY</td>\n",
              "    </tr>\n",
              "    <tr>\n",
              "      <th>9</th>\n",
              "      <td>-122.25</td>\n",
              "      <td>37.84</td>\n",
              "      <td>52</td>\n",
              "      <td>3549</td>\n",
              "      <td>707.0</td>\n",
              "      <td>1551</td>\n",
              "      <td>714</td>\n",
              "      <td>3.6912</td>\n",
              "      <td>261100</td>\n",
              "      <td>NEAR BAY</td>\n",
              "    </tr>\n",
              "  </tbody>\n",
              "</table>\n",
              "</div>"
            ],
            "text/plain": [
              "   longitude  latitude  ...  median_house_value  ocean_proximity\n",
              "0    -122.23     37.88  ...              452600         NEAR BAY\n",
              "1    -122.22     37.86  ...              358500         NEAR BAY\n",
              "2    -122.24     37.85  ...              352100         NEAR BAY\n",
              "3    -122.25     37.85  ...              341300         NEAR BAY\n",
              "4    -122.25     37.85  ...              342200         NEAR BAY\n",
              "5    -122.25     37.85  ...              269700         NEAR BAY\n",
              "6    -122.25     37.84  ...              299200         NEAR BAY\n",
              "7    -122.25     37.84  ...              241400         NEAR BAY\n",
              "8    -122.26     37.84  ...              226700         NEAR BAY\n",
              "9    -122.25     37.84  ...              261100         NEAR BAY\n",
              "\n",
              "[10 rows x 10 columns]"
            ]
          },
          "metadata": {
            "tags": []
          },
          "execution_count": 71
        }
      ]
    },
    {
      "cell_type": "code",
      "metadata": {
        "id": "9ttzBpxb-g96",
        "colab_type": "code",
        "outputId": "26b82d62-419d-4421-b4f8-18a2ac2fbff1",
        "colab": {
          "base_uri": "https://localhost:8080/",
          "height": 293
        }
      },
      "source": [
        "x_data = range(0, 20)\n",
        "dataset1 = dataset[:20]\n",
        "fig, ax = plt.subplots(10)\n",
        "\n",
        "ax[0].plot(x_data, dataset1['longitude'], label='longitude', color='red')\n",
        "ax[0].legend('longitude')\n",
        "ax[1].plot(x_data, dataset1['latitude'], label='latitude', color='blue')\n",
        "ax[1].legend('latitude')\n",
        "ax[2].plot(x_data, dataset1['housing_median_age'], label='housing_median_age', color='green')\n",
        "ax[2].legend('housing_median_age')\n",
        "ax[3].plot(x_data, dataset1['total_rooms'], label='total_rooms', color='black')\n",
        "ax[3].legend('total_rooms')\n",
        "ax[4].plot(x_data, dataset1['total_bedrooms'], label='total_bedrooms', color='pink')\n",
        "ax[4].legend('total_bedrooms')\n",
        "ax[5].plot(x_data, dataset1['population'], label='population', color='cyan')\n",
        "ax[5].legend(\"population\")\n",
        "ax[6].plot(x_data, dataset1['households'], label='households', color='magenta')\n",
        "ax[6].legend('households')\n",
        "ax[7].plot(x_data, dataset1['median_income'], label='median_income', color='pink')\n",
        "ax[7].legend('median_income')\n",
        "ax[8].plot(x_data, dataset1['median_house_value'], label='median_house_value', color='green')\n",
        "ax[8].legend('median_house_value')\n",
        "ax[9].plot(x_data, dataset1['ocean_proximity'], label='ocean_proximity', color='blue')\n",
        "ax[9].legend('ocean_proximity')\n"
      ],
      "execution_count": 81,
      "outputs": [
        {
          "output_type": "execute_result",
          "data": {
            "text/plain": [
              "<matplotlib.legend.Legend at 0x7f0a8864c860>"
            ]
          },
          "metadata": {
            "tags": []
          },
          "execution_count": 81
        },
        {
          "output_type": "display_data",
          "data": {
            "image/png": "[encoded data removed]",
            "text/plain": [
              "<Figure size 432x288 with 10 Axes>"
            ]
          },
          "metadata": {
            "tags": []
          }
        }
      ]
    },
    {
      "cell_type": "code",
      "metadata": {
        "id": "0Y_IsRdJNjy3",
        "colab_type": "code",
        "colab": {}
      },
      "source": [
        ""
      ],
      "execution_count": 0,
      "outputs": []
    },
    {
      "cell_type": "code",
      "metadata": {
        "id": "XlAlJGN8Qe3q",
        "colab_type": "code",
        "colab": {}
      },
      "source": [
        "Y = dataset['median_house_value']\n",
        "X = dataset.loc[:,'longitude':'median_income']\n",
        "x_train, x_test, y_train, y_test = train_test_split(X, Y, test_size=0.3, \n",
        "                                                    random_state=2003)\n",
        "x_train_np = x_train.to_numpy() \n",
        "y_train_np = y_train.to_numpy()\n",
        "x_test_np = x_test.to_numpy() \n",
        "y_test_np = y_test.to_numpy()\n"
      ],
      "execution_count": 0,
      "outputs": []
    },
    {
      "cell_type": "code",
      "metadata": {
        "id": "n8nxoOWhQt-E",
        "colab_type": "code",
        "colab": {}
      },
      "source": [
        "import torch\n",
        "from torch.nn import Conv1d\n",
        "from torch.nn import MaxPool1d\n",
        "from torch.nn import Flatten\n",
        "from torch.nn import Linear\n",
        "from torch.nn.functional import relu\n",
        "from torch.utils.data import DataLoader, TensorDataset\n",
        "\n",
        "class CnnRegressor(torch.nn.Module):\n",
        "  def __init__(self, batch_size, inputs, outputs):\n",
        "    super(CnnRegressor, self).__init__() \n",
        "    self.batch_size = batch_size \n",
        "    self.inputs = inputs\n",
        "    self.outputs = outputs\n",
        "    self.input_layer = Conv1d(inputs, batch_size, 1)\n",
        "    self.max_pooling_layer = MaxPool1d(1)\n",
        "    self.conv_layer = Conv1d(batch_size, 17, 1)\n",
        "    self.flatten_layer = Flatten()\n",
        "    self.linear_layer = Linear(17, 15)\n",
        "    self.output_layer = Linear(15, outputs)\n",
        "  def feed(self, input):\n",
        "    input = input.reshape((self.batch_size, self.inputs, 1))\n",
        "    output = relu(self.input_layer(input))\n",
        "    output = self.max_pooling_layer(output)\n",
        "    output = relu(self.conv_layer(output))\n",
        "    output = self.flatten_layer(output)\n",
        "    output = self.linear_layer(output)\n",
        "    output = self.output_layer(output) \n",
        "    return output"
      ],
      "execution_count": 0,
      "outputs": []
    },
    {
      "cell_type": "code",
      "metadata": {
        "id": "dKzdFfOHRqG8",
        "colab_type": "code",
        "colab": {}
      },
      "source": [
        "from torch.optim import RMSprop as RMS\n",
        "from torch.nn import L1Loss\n",
        "!pip install pytorch-ignite\n",
        "from ignite.contrib.metrics.regression.r2_score import R2Score\n",
        "\n",
        "batch_size = 15\n",
        "model = CnnRegressor(batch_size, X.shape[1], 1)\n",
        "model.cuda()"
      ],
      "execution_count": 0,
      "outputs": []
    },
    {
      "cell_type": "code",
      "metadata": {
        "id": "zerwxbJmRHtr",
        "colab_type": "code",
        "colab": {}
      },
      "source": [
        "def model_loss(model, dataset, train = False, optimizer = None):\n",
        "  performance = L1Loss() \n",
        "  score_metric = R2Score()\n",
        "  avg_loss = 0\n",
        "  avg_score = 0\n",
        "  count = 0\n",
        "  for input, output in iter(dataset):\n",
        "    predictions = model.feed(input)\n",
        "    loss = performance(predictions, output)\n",
        "    score_metric.update([predictions, output]) \n",
        "    score = score_metric.compute()\n",
        "    if(train):\n",
        "      optimizer.zero_grad()\n",
        "      loss.backward()\n",
        "      optimizer.step()\n",
        "    avg_loss += loss.item() \n",
        "    avg_score += score \n",
        "    count += 1\n",
        "  \n",
        "  return avg_loss / count, avg_score / count\n",
        "\n",
        "epochs = 100\n",
        "optimizer = RMS(model.parameters(), lr=0.0001, momentum=0.9)\n",
        "inputs = torch.from_numpy(x_train_np).cuda().float()\n",
        "outputs = torch.from_numpy(y_train_np.reshape(y_train_np.shape[0], 1)).cuda().float()\n",
        "tensor = TensorDataset(inputs, outputs)\n",
        "loader = DataLoader(tensor, batch_size, shuffle=True, drop_last=True)\n",
        "for epoch in range(epochs):\n",
        "  avg_loss, avg_r2_score = model_loss(model, loader, train=True, optimizer=optimizer)\n",
        "  print(\"Epoch \" + str(epoch + 1) + \":\\n\\tLoss = \" + str(avg_loss) + \"\\n\\tR^2 Score = \" \n",
        "        + str(avg_r2_score))\n",
        "\n",
        "torch.save(model.state_dict(), '1117675_1dconv_reg')\n"
      ],
      "execution_count": 0,
      "outputs": []
    },
    {
      "cell_type": "code",
      "metadata": {
        "id": "NDUUgm8qUAMS",
        "colab_type": "code",
        "colab": {}
      },
      "source": [
        "inputs = torch.from_numpy(x_test_np).cuda().float()\n",
        "outputs = torch.from_numpy(y_test_np.reshape(y_test_np.shape[0], 1)).cuda().float()\n",
        "tensor = TensorDataset(inputs, outputs)\n",
        "loader = DataLoader(tensor, batch_size, shuffle=True, drop_last=True)\n",
        "avg_loss, avg_r2_score = model_loss(model, loader) \n",
        "print(\"The model's L1 loss is: \" + str(avg_loss)) \n",
        "print(\"The model's R^2 score is: \" + str(avg_r2_score))"
      ],
      "execution_count": 0,
      "outputs": []
    },
    {
      "cell_type": "code",
      "metadata": {
        "id": "hn2Vq3MwZNWa",
        "colab_type": "code",
        "colab": {}
      },
      "source": [
        ""
      ],
      "execution_count": 0,
      "outputs": []
    }
  ]
}